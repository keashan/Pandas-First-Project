{
 "cells": [
  {
   "cell_type": "code",
   "execution_count": 1,
   "metadata": {
    "scrolled": true
   },
   "outputs": [
    {
     "name": "stderr",
     "output_type": "stream",
     "text": [
      "C:\\Users\\keash\\anaconda3\\lib\\site-packages\\pandas\\core\\frame.py:3997: SettingWithCopyWarning: \n",
      "A value is trying to be set on a copy of a slice from a DataFrame\n",
      "\n",
      "See the caveats in the documentation: https://pandas.pydata.org/pandas-docs/stable/user_guide/indexing.html#returning-a-view-versus-a-copy\n",
      "  errors=errors,\n"
     ]
    }
   ],
   "source": [
    "import pandas as pd\n",
    "#Read csv files as dataframes\n",
    "keywords=pd.read_csv(r'C:\\Users\\keash\\OneDrive\\Work\\My Work\\2020\\May\\Fiverr\\ekalb355 - 10\\Keywords for Real Estate List.csv')\n",
    "alllist=pd.read_csv(r'C:\\Users\\keash\\OneDrive\\Work\\My Work\\2020\\May\\Fiverr\\ekalb355 - 10\\Test List.csv')\n",
    "\n",
    "#Add new column to source file if row matches any of keywords. (case is ignored here)\n",
    "for index, rows in keywords.iterrows():\n",
    "    mykey=rows.Keyword\n",
    "    alllist.loc[alllist['owner'].str.contains(mykey,case=False),'coop']=1\n",
    "    \n",
    "\n",
    "#Fillter new column to find cooperate owners and asign them to new df\n",
    "cooplist=alllist[alllist['coop']==1]\n",
    "cooplist.drop('coop',axis=1,inplace=True)\n",
    "\n",
    "\n",
    "#Create new list to hold states to keep\n",
    "stlist=['TX','Texas']\n",
    "\n",
    "#Add new column to source file with boolean values if values on above list is in the 'mail_state2' column\n",
    "alllist['tx']=alllist['mail_state2'].isin(stlist)\n",
    "\n",
    "#Filter who are in the state and not in cooperate list and added to new df\n",
    "txlist=alllist[(alllist['coop']!=1) & (alllist['tx']==True)]\n",
    "txlist.drop(['coop','tx'],axis=1,inplace=True)\n",
    "\n",
    "#Filter who are not in the state and not in cooperate list and added to new df\n",
    "olist=alllist[(alllist['coop']!=1) & (alllist['tx']==False)]\n",
    "olist.drop(['coop','tx'],axis=1,inplace=True)\n",
    "\n",
    "#Save each df as individual csv file\n",
    "cooplist.to_csv(r'C:\\Users\\keash\\OneDrive\\Work\\My Work\\2020\\May\\Fiverr\\ekalb355 - 10\\COOP List.csv', index=False)\n",
    "txlist.to_csv(r'C:\\Users\\keash\\OneDrive\\Work\\My Work\\2020\\May\\Fiverr\\ekalb355 - 10\\Texas List.csv', index=False)\n",
    "olist.to_csv(r'C:\\Users\\keash\\OneDrive\\Work\\My Work\\2020\\May\\Fiverr\\ekalb355 - 10\\Other States List.csv', index=False) \n",
    "\n",
    "#Save all df to a single excel file. Each df is a seperate sheet in that file\n",
    "writer = pd.ExcelWriter(r'C:\\Users\\keash\\OneDrive\\Work\\My Work\\2020\\May\\Fiverr\\ekalb355 - 10\\Processed Sheets.xlsx', engine='xlsxwriter')\n",
    "\n",
    "txlist.to_excel(writer, sheet_name='Single Ownership',index=False)\n",
    "cooplist.to_excel(writer, sheet_name='Coperate Ownership',index=False)\n",
    "olist.to_excel(writer, sheet_name='Out of State',index=False)\n",
    "\n",
    "writer.save()"
   ]
  },
  {
   "cell_type": "code",
   "execution_count": null,
   "metadata": {},
   "outputs": [],
   "source": []
  }
 ],
 "metadata": {
  "kernelspec": {
   "display_name": "Python 3",
   "language": "python",
   "name": "python3"
  },
  "language_info": {
   "codemirror_mode": {
    "name": "ipython",
    "version": 3
   },
   "file_extension": ".py",
   "mimetype": "text/x-python",
   "name": "python",
   "nbconvert_exporter": "python",
   "pygments_lexer": "ipython3",
   "version": "3.7.6"
  }
 },
 "nbformat": 4,
 "nbformat_minor": 4
}
