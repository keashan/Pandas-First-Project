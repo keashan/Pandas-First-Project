{
 "cells": [
  {
   "cell_type": "code",
   "execution_count": 4,
   "metadata": {
    "scrolled": true,
    "tags": []
   },
   "outputs": [
    {
     "output_type": "stream",
     "name": "stdout",
     "text": "Done\n"
    }
   ],
   "source": [
    "import pandas as pd\n",
    "#Read csv files as dataframes\n",
    "keywords=pd.read_csv(r'C:\\Users\\keash\\OneDrive\\Work\\My Work\\2020\\May\\Fiverr\\ekalb355 - 10\\Keywords for Real Estate List.csv')\n",
    "alllist=pd.read_csv(r'C:\\Users\\keash\\OneDrive\\Work\\My Work\\2020\\May\\Fiverr\\ekalb355 - 10\\Test List.csv')\n",
    "\n",
    "#Add new column to source file if row matches any of keywords. (case is ignored here)\n",
    "for index, rows in keywords.iterrows():\n",
    "    mykey=rows.Keyword\n",
    "    alllist.loc[alllist['owner'].str.contains(mykey,case=False),'coop']=1\n",
    "    \n",
    "\n",
    "#Fillter new column to find cooperate owners and asign them to new df\n",
    "cooplist=alllist[alllist['coop']==1]\n",
    "cooplist.drop('coop',axis=1,inplace=True)\n",
    "\n",
    "\n",
    "#Create new list to hold states to keep\n",
    "stlist=['TX','Texas']\n",
    "\n",
    "#Add new column to source file with boolean values if values on above list is in the 'mail_state2' column\n",
    "alllist['tx']=alllist['mail_state2'].isin(stlist)\n",
    "\n",
    "#Filter who are in the state and not in cooperate list and added to new df\n",
    "txlist=alllist[(alllist['coop']!=1) & (alllist['tx']==True)]\n",
    "txlist.drop(['coop','tx'],axis=1,inplace=True)\n",
    "\n",
    "#Filter who are not in the state and not in cooperate list and added to new df\n",
    "olist=alllist[(alllist['coop']!=1) & (alllist['tx']==False)]\n",
    "olist.drop(['coop','tx'],axis=1,inplace=True)\n",
    "\n",
    "#Save each df as individual csv file\n",
    "cooplist.to_csv(r'C:\\Users\\keash\\OneDrive\\Work\\My Work\\2020\\May\\Fiverr\\ekalb355 - 10\\COOP List.csv', index=False)\n",
    "txlist.to_csv(r'C:\\Users\\keash\\OneDrive\\Work\\My Work\\2020\\May\\Fiverr\\ekalb355 - 10\\Texas List.csv', index=False)\n",
    "olist.to_csv(r'C:\\Users\\keash\\OneDrive\\Work\\My Work\\2020\\May\\Fiverr\\ekalb355 - 10\\Other States List.csv', index=False) \n",
    "\n",
    "#Save all df to a single excel file. Each df is a seperate sheet in that file\n",
    "writer = pd.ExcelWriter(r'C:\\Users\\keash\\OneDrive\\Work\\My Work\\2020\\May\\Fiverr\\ekalb355 - 10\\Processed Sheets.xlsx', engine='xlsxwriter')\n",
    "\n",
    "txlist.to_excel(writer, sheet_name='Single Ownership',index=False)\n",
    "cooplist.to_excel(writer, sheet_name='Coperate Ownership',index=False)\n",
    "olist.to_excel(writer, sheet_name='Out of State',index=False)\n",
    "\n",
    "writer.save()\n",
    "\n",
    "print('Done')"
   ]
  },
  {
   "cell_type": "code",
   "execution_count": null,
   "metadata": {},
   "outputs": [],
   "source": []
  }
 ],
 "metadata": {
  "kernelspec": {
   "display_name": "Python 3.8.5 64-bit",
   "language": "python",
   "name": "python_defaultSpec_1595582254220"
  },
  "language_info": {
   "codemirror_mode": {
    "name": "ipython",
    "version": 3
   },
   "file_extension": ".py",
   "mimetype": "text/x-python",
   "name": "python",
   "nbconvert_exporter": "python",
   "pygments_lexer": "ipython3",
   "version": "3.7.6"
  }
 },
 "nbformat": 4,
 "nbformat_minor": 4
}